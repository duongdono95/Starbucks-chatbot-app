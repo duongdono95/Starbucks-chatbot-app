{
 "cells": [
  {
   "cell_type": "code",
   "execution_count": null,
   "metadata": {},
   "outputs": [
    {
     "name": "stdout",
     "output_type": "stream",
     "text": [
      "[2]\n",
      "CourtesyGreeting\n",
      "Hello, how are you? I am great thanks! Please tell me your Starbucks username\n"
     ]
    },
    {
     "name": "stderr",
     "output_type": "stream",
     "text": [
      "c:\\Users\\Owner\\OneDrive\\Desktop\\Study\\MDS\\Year 2\\ProjectBasedLearning\\Project1\\chatbot\\venv\\Lib\\site-packages\\spacy\\pipeline\\lemmatizer.py:211: UserWarning: [W108] The rule-based lemmatizer did not find POS annotation for one or more tokens. Check that your pipeline includes components that assign token.pos, typically 'tagger'+'attribute_ruler' or 'morphologizer'.\n",
      "  warnings.warn(Warnings.W108)\n",
      "c:\\Users\\Owner\\OneDrive\\Desktop\\Study\\MDS\\Year 2\\ProjectBasedLearning\\Project1\\chatbot\\venv\\Lib\\site-packages\\sklearn\\utils\\validation.py:2739: UserWarning: X does not have valid feature names, but MultinomialNB was fitted with feature names\n",
      "  warnings.warn(\n"
     ]
    }
   ],
   "source": [
    "# Load the trained vectorizer\n",
    "import pickle\n",
    "import json\n",
    "import random\n",
    "from functions import clean_text\n",
    "\n",
    "with open(\"models/nlp.pkl\", \"rb\") as f:\n",
    "    nlp = pickle.load(f)\n",
    "with open(\"models/vectorizer.pkl\", \"rb\") as f:\n",
    "    vectorise_model = pickle.load(f)\n",
    "with open(\"models/model.pkl\", \"rb\") as f:\n",
    "    model = pickle.load(f)    \n",
    "    \n",
    "\n",
    "text = \"Hey, how are you?\"\n",
    "cleaned_text = clean_text(text, nlp)\n",
    "\n",
    "# Transform using the pre-trained vectorizer\n",
    "vectorised_text = vectorise_model.transform([cleaned_text])\n",
    "\n",
    "\n",
    "# Convert sparse matrix to array and predict\n",
    "result = model.predict(vectorised_text.toarray())\n",
    "print(result)\n",
    "\n",
    "# Load the saved label mapping\n",
    "with open(\"datasets/label_mapping.json\", \"r\") as f:\n",
    "    label_mapping = json.load(f)\n",
    "\n",
    "print(label_mapping[str(result[0])])\n",
    "\n",
    "with open(\"datasets/dataset.json\", \"r\") as f:\n",
    "    dataset = json.load(f)\n",
    "    \n",
    "for item in dataset:\n",
    "    if item[\"intent\"] == label_mapping[str(result[0])]:\n",
    "        answer =  random.choice(item[\"responses\"])\n",
    "\n",
    "print(answer)\n",
    "\n"
   ]
  }
 ],
 "metadata": {
  "kernelspec": {
   "display_name": "venv",
   "language": "python",
   "name": "python3"
  },
  "language_info": {
   "codemirror_mode": {
    "name": "ipython",
    "version": 3
   },
   "file_extension": ".py",
   "mimetype": "text/x-python",
   "name": "python",
   "nbconvert_exporter": "python",
   "pygments_lexer": "ipython3",
   "version": "3.12.7"
  }
 },
 "nbformat": 4,
 "nbformat_minor": 2
}
